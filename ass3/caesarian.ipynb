{
 "cells": [
  {
   "cell_type": "code",
   "execution_count": 16,
   "metadata": {},
   "outputs": [],
   "source": [
    "import pandas as pd\n",
    "from sklearn import tree\n",
    "from treeviz import tree_print\n",
    "from sklearn.metrics import accuracy_score"
   ]
  },
  {
   "cell_type": "code",
   "execution_count": 17,
   "metadata": {},
   "outputs": [
    {
     "data": {
      "text/html": [
       "<div>\n",
       "<style scoped>\n",
       "    .dataframe tbody tr th:only-of-type {\n",
       "        vertical-align: middle;\n",
       "    }\n",
       "\n",
       "    .dataframe tbody tr th {\n",
       "        vertical-align: top;\n",
       "    }\n",
       "\n",
       "    .dataframe thead th {\n",
       "        text-align: right;\n",
       "    }\n",
       "</style>\n",
       "<table border=\"1\" class=\"dataframe\">\n",
       "  <thead>\n",
       "    <tr style=\"text-align: right;\">\n",
       "      <th></th>\n",
       "      <th>Age</th>\n",
       "      <th>Delivery number</th>\n",
       "      <th>Delivery time</th>\n",
       "      <th>Blood of Pressure</th>\n",
       "      <th>Heart Problem</th>\n",
       "      <th>Caesarian</th>\n",
       "    </tr>\n",
       "  </thead>\n",
       "  <tbody>\n",
       "    <tr>\n",
       "      <td>0</td>\n",
       "      <td>22</td>\n",
       "      <td>1</td>\n",
       "      <td>0</td>\n",
       "      <td>2</td>\n",
       "      <td>0</td>\n",
       "      <td>False</td>\n",
       "    </tr>\n",
       "    <tr>\n",
       "      <td>1</td>\n",
       "      <td>26</td>\n",
       "      <td>2</td>\n",
       "      <td>0</td>\n",
       "      <td>1</td>\n",
       "      <td>0</td>\n",
       "      <td>True</td>\n",
       "    </tr>\n",
       "    <tr>\n",
       "      <td>2</td>\n",
       "      <td>26</td>\n",
       "      <td>2</td>\n",
       "      <td>1</td>\n",
       "      <td>1</td>\n",
       "      <td>0</td>\n",
       "      <td>False</td>\n",
       "    </tr>\n",
       "    <tr>\n",
       "      <td>3</td>\n",
       "      <td>28</td>\n",
       "      <td>1</td>\n",
       "      <td>0</td>\n",
       "      <td>2</td>\n",
       "      <td>0</td>\n",
       "      <td>False</td>\n",
       "    </tr>\n",
       "    <tr>\n",
       "      <td>4</td>\n",
       "      <td>22</td>\n",
       "      <td>2</td>\n",
       "      <td>0</td>\n",
       "      <td>1</td>\n",
       "      <td>0</td>\n",
       "      <td>True</td>\n",
       "    </tr>\n",
       "  </tbody>\n",
       "</table>\n",
       "</div>"
      ],
      "text/plain": [
       "   Age  Delivery number  Delivery time  Blood of Pressure  Heart Problem  \\\n",
       "0   22                1              0                  2              0   \n",
       "1   26                2              0                  1              0   \n",
       "2   26                2              1                  1              0   \n",
       "3   28                1              0                  2              0   \n",
       "4   22                2              0                  1              0   \n",
       "\n",
       "   Caesarian  \n",
       "0      False  \n",
       "1       True  \n",
       "2      False  \n",
       "3      False  \n",
       "4       True  "
      ]
     },
     "execution_count": 17,
     "metadata": {},
     "output_type": "execute_result"
    }
   ],
   "source": [
    "data_frame = pd.read_csv('ds/notes/assets/caesarian.csv')\n",
    "data_frame.head()"
   ]
  },
  {
   "cell_type": "code",
   "execution_count": 18,
   "metadata": {},
   "outputs": [
    {
     "data": {
      "text/html": [
       "<div>\n",
       "<style scoped>\n",
       "    .dataframe tbody tr th:only-of-type {\n",
       "        vertical-align: middle;\n",
       "    }\n",
       "\n",
       "    .dataframe tbody tr th {\n",
       "        vertical-align: top;\n",
       "    }\n",
       "\n",
       "    .dataframe thead th {\n",
       "        text-align: right;\n",
       "    }\n",
       "</style>\n",
       "<table border=\"1\" class=\"dataframe\">\n",
       "  <thead>\n",
       "    <tr style=\"text-align: right;\">\n",
       "      <th></th>\n",
       "      <th>Age</th>\n",
       "      <th>Delivery number</th>\n",
       "      <th>Delivery time</th>\n",
       "      <th>Blood of Pressure</th>\n",
       "      <th>Heart Problem</th>\n",
       "    </tr>\n",
       "  </thead>\n",
       "  <tbody>\n",
       "    <tr>\n",
       "      <td>0</td>\n",
       "      <td>22</td>\n",
       "      <td>1</td>\n",
       "      <td>0</td>\n",
       "      <td>2</td>\n",
       "      <td>0</td>\n",
       "    </tr>\n",
       "    <tr>\n",
       "      <td>1</td>\n",
       "      <td>26</td>\n",
       "      <td>2</td>\n",
       "      <td>0</td>\n",
       "      <td>1</td>\n",
       "      <td>0</td>\n",
       "    </tr>\n",
       "    <tr>\n",
       "      <td>2</td>\n",
       "      <td>26</td>\n",
       "      <td>2</td>\n",
       "      <td>1</td>\n",
       "      <td>1</td>\n",
       "      <td>0</td>\n",
       "    </tr>\n",
       "    <tr>\n",
       "      <td>3</td>\n",
       "      <td>28</td>\n",
       "      <td>1</td>\n",
       "      <td>0</td>\n",
       "      <td>2</td>\n",
       "      <td>0</td>\n",
       "    </tr>\n",
       "    <tr>\n",
       "      <td>4</td>\n",
       "      <td>22</td>\n",
       "      <td>2</td>\n",
       "      <td>0</td>\n",
       "      <td>1</td>\n",
       "      <td>0</td>\n",
       "    </tr>\n",
       "  </tbody>\n",
       "</table>\n",
       "</div>"
      ],
      "text/plain": [
       "   Age  Delivery number  Delivery time  Blood of Pressure  Heart Problem\n",
       "0   22                1              0                  2              0\n",
       "1   26                2              0                  1              0\n",
       "2   26                2              1                  1              0\n",
       "3   28                1              0                  2              0\n",
       "4   22                2              0                  1              0"
      ]
     },
     "execution_count": 18,
     "metadata": {},
     "output_type": "execute_result"
    }
   ],
   "source": [
    "features_data_frame = data_frame.drop('Caesarian',axis=1)\n",
    "features_data_frame.head() #features = numeric"
   ]
  },
  {
   "cell_type": "code",
   "execution_count": 19,
   "metadata": {},
   "outputs": [
    {
     "data": {
      "text/html": [
       "<div>\n",
       "<style scoped>\n",
       "    .dataframe tbody tr th:only-of-type {\n",
       "        vertical-align: middle;\n",
       "    }\n",
       "\n",
       "    .dataframe tbody tr th {\n",
       "        vertical-align: top;\n",
       "    }\n",
       "\n",
       "    .dataframe thead th {\n",
       "        text-align: right;\n",
       "    }\n",
       "</style>\n",
       "<table border=\"1\" class=\"dataframe\">\n",
       "  <thead>\n",
       "    <tr style=\"text-align: right;\">\n",
       "      <th></th>\n",
       "      <th>Caesarian</th>\n",
       "    </tr>\n",
       "  </thead>\n",
       "  <tbody>\n",
       "    <tr>\n",
       "      <td>0</td>\n",
       "      <td>False</td>\n",
       "    </tr>\n",
       "    <tr>\n",
       "      <td>1</td>\n",
       "      <td>True</td>\n",
       "    </tr>\n",
       "    <tr>\n",
       "      <td>2</td>\n",
       "      <td>False</td>\n",
       "    </tr>\n",
       "    <tr>\n",
       "      <td>3</td>\n",
       "      <td>False</td>\n",
       "    </tr>\n",
       "    <tr>\n",
       "      <td>4</td>\n",
       "      <td>True</td>\n",
       "    </tr>\n",
       "  </tbody>\n",
       "</table>\n",
       "</div>"
      ],
      "text/plain": [
       "   Caesarian\n",
       "0      False\n",
       "1       True\n",
       "2      False\n",
       "3      False\n",
       "4       True"
      ]
     },
     "execution_count": 19,
     "metadata": {},
     "output_type": "execute_result"
    }
   ],
   "source": [
    "target_data_frame = pd.DataFrame(data_frame['Caesarian'])\n",
    "target_data_frame.head() #target = string"
   ]
  },
  {
   "cell_type": "code",
   "execution_count": 20,
   "metadata": {},
   "outputs": [
    {
     "data": {
      "text/plain": [
       "DecisionTreeClassifier(class_weight=None, criterion='entropy', max_depth=None,\n",
       "                       max_features=None, max_leaf_nodes=None,\n",
       "                       min_impurity_decrease=0.0, min_impurity_split=None,\n",
       "                       min_samples_leaf=1, min_samples_split=2,\n",
       "                       min_weight_fraction_leaf=0.0, presort=False,\n",
       "                       random_state=None, splitter='best')"
      ]
     },
     "execution_count": 20,
     "metadata": {},
     "output_type": "execute_result"
    }
   ],
   "source": [
    "decision_tree = tree.DecisionTreeClassifier(criterion='entropy')\n",
    "decision_tree.fit(features_data_frame, target_data_frame)"
   ]
  },
  {
   "cell_type": "code",
   "execution_count": 21,
   "metadata": {},
   "outputs": [
    {
     "name": "stdout",
     "output_type": "stream",
     "text": [
      "if Heart Problem =< 0.5: \n",
      "  |then if Age =< 21.5: \n",
      "  |  |then if Age =< 18.5: \n",
      "  |  |  |then if Blood of Pressure =< 0.5: \n",
      "  |  |  |  |then True\n",
      "  |  |  |  |else False\n",
      "  |  |  |else True\n",
      "  |  |else if Delivery number =< 2.5: \n",
      "  |  |  |then if Age =< 31.5: \n",
      "  |  |  |  |then if Age =< 29.5: \n",
      "  |  |  |  |  |then if Age =< 28.5: \n",
      "  |  |  |  |  |  |then if Age =< 27.5: \n",
      "  |  |  |  |  |  |  |then if Delivery time =< 0.5: \n",
      "  |  |  |  |  |  |  |  |then if Age =< 26.5: \n",
      "  |  |  |  |  |  |  |  |  |then if Delivery number =< 1.5: \n",
      "  |  |  |  |  |  |  |  |  |  |then if Blood of Pressure =< 0.5: \n",
      "  |  |  |  |  |  |  |  |  |  |  |then False\n",
      "  |  |  |  |  |  |  |  |  |  |  |else if Age =< 23.5: \n",
      "  |  |  |  |  |  |  |  |  |  |  |  |then if Blood of Pressure =< 1.5: \n",
      "  |  |  |  |  |  |  |  |  |  |  |  |  |then True\n",
      "  |  |  |  |  |  |  |  |  |  |  |  |  |else False\n",
      "  |  |  |  |  |  |  |  |  |  |  |  |else if Blood of Pressure =< 1.5: \n",
      "  |  |  |  |  |  |  |  |  |  |  |  |  |then False\n",
      "  |  |  |  |  |  |  |  |  |  |  |  |  |else True\n",
      "  |  |  |  |  |  |  |  |  |  |else if Age =< 23.5: \n",
      "  |  |  |  |  |  |  |  |  |  |  |then True\n",
      "  |  |  |  |  |  |  |  |  |  |  |else if Age =< 25.5: \n",
      "  |  |  |  |  |  |  |  |  |  |  |  |then False\n",
      "  |  |  |  |  |  |  |  |  |  |  |  |else True\n",
      "  |  |  |  |  |  |  |  |  |else False\n",
      "  |  |  |  |  |  |  |  |else if Age =< 25.5: \n",
      "  |  |  |  |  |  |  |  |  |then False\n",
      "  |  |  |  |  |  |  |  |  |else if Blood of Pressure =< 0.5: \n",
      "  |  |  |  |  |  |  |  |  |  |then False\n",
      "  |  |  |  |  |  |  |  |  |  |else if Age =< 26.5: \n",
      "  |  |  |  |  |  |  |  |  |  |  |then if Delivery time =< 1.5: \n",
      "  |  |  |  |  |  |  |  |  |  |  |  |then False\n",
      "  |  |  |  |  |  |  |  |  |  |  |  |else False\n",
      "  |  |  |  |  |  |  |  |  |  |  |else if Delivery number =< 1.5: \n",
      "  |  |  |  |  |  |  |  |  |  |  |  |then True\n",
      "  |  |  |  |  |  |  |  |  |  |  |  |else False\n",
      "  |  |  |  |  |  |  |else False\n",
      "  |  |  |  |  |  |else True\n",
      "  |  |  |  |  |else False\n",
      "  |  |  |  |else if Delivery number =< 1.5: \n",
      "  |  |  |  |  |then if Blood of Pressure =< 1.5: \n",
      "  |  |  |  |  |  |then if Blood of Pressure =< 0.5: \n",
      "  |  |  |  |  |  |  |then if Age =< 34.0: \n",
      "  |  |  |  |  |  |  |  |then True\n",
      "  |  |  |  |  |  |  |  |else False\n",
      "  |  |  |  |  |  |  |else False\n",
      "  |  |  |  |  |  |else True\n",
      "  |  |  |  |  |else True\n",
      "  |  |  |else if Delivery time =< 1.0: \n",
      "  |  |  |  |then True\n",
      "  |  |  |  |else False\n",
      "  |else if Blood of Pressure =< 0.5: \n",
      "  |  |then True\n",
      "  |  |else if Blood of Pressure =< 1.5: \n",
      "  |  |  |then if Age =< 26.5: \n",
      "  |  |  |  |then False\n",
      "  |  |  |  |else if Delivery time =< 1.0: \n",
      "  |  |  |  |  |then if Age =< 28.5: \n",
      "  |  |  |  |  |  |then True\n",
      "  |  |  |  |  |  |else if Age =< 34.5: \n",
      "  |  |  |  |  |  |  |then if Delivery number =< 2.5: \n",
      "  |  |  |  |  |  |  |  |then if Age =< 30.5: \n",
      "  |  |  |  |  |  |  |  |  |then False\n",
      "  |  |  |  |  |  |  |  |  |else True\n",
      "  |  |  |  |  |  |  |  |else False\n",
      "  |  |  |  |  |  |  |else True\n",
      "  |  |  |  |  |else False\n",
      "  |  |  |else if Delivery time =< 1.5: \n",
      "  |  |  |  |then True\n",
      "  |  |  |  |else if Age =< 34.5: \n",
      "  |  |  |  |  |then False\n",
      "  |  |  |  |  |else True\n",
      "<------------------------------------->\n",
      "Tree Depth:  13\n"
     ]
    }
   ],
   "source": [
    "tree_print(decision_tree, features_data_frame)       # let's take a look at what the decision tree looks like"
   ]
  },
  {
   "cell_type": "code",
   "execution_count": 22,
   "metadata": {},
   "outputs": [],
   "source": [
    "predict_array = decision_tree.predict(features_data_frame)            # produces an array of labels\n",
    "predicted_labels = pd.DataFrame(predict_array)                        # turn it into a data frame\n",
    "predicted_labels.columns = ['Caesarian']                              # name columns the same as in target_data_frame"
   ]
  },
  {
   "cell_type": "code",
   "execution_count": 23,
   "metadata": {},
   "outputs": [
    {
     "data": {
      "text/html": [
       "<div>\n",
       "<style scoped>\n",
       "    .dataframe tbody tr th:only-of-type {\n",
       "        vertical-align: middle;\n",
       "    }\n",
       "\n",
       "    .dataframe tbody tr th {\n",
       "        vertical-align: top;\n",
       "    }\n",
       "\n",
       "    .dataframe thead th {\n",
       "        text-align: right;\n",
       "    }\n",
       "</style>\n",
       "<table border=\"1\" class=\"dataframe\">\n",
       "  <thead>\n",
       "    <tr style=\"text-align: right;\">\n",
       "      <th></th>\n",
       "      <th>Caesarian</th>\n",
       "    </tr>\n",
       "  </thead>\n",
       "  <tbody>\n",
       "    <tr>\n",
       "      <td>0</td>\n",
       "      <td>False</td>\n",
       "    </tr>\n",
       "    <tr>\n",
       "      <td>1</td>\n",
       "      <td>True</td>\n",
       "    </tr>\n",
       "    <tr>\n",
       "      <td>2</td>\n",
       "      <td>False</td>\n",
       "    </tr>\n",
       "    <tr>\n",
       "      <td>3</td>\n",
       "      <td>False</td>\n",
       "    </tr>\n",
       "    <tr>\n",
       "      <td>4</td>\n",
       "      <td>True</td>\n",
       "    </tr>\n",
       "  </tbody>\n",
       "</table>\n",
       "</div>"
      ],
      "text/plain": [
       "   Caesarian\n",
       "0      False\n",
       "1       True\n",
       "2      False\n",
       "3      False\n",
       "4       True"
      ]
     },
     "execution_count": 23,
     "metadata": {},
     "output_type": "execute_result"
    }
   ],
   "source": [
    "predicted_labels.head()"
   ]
  },
  {
   "cell_type": "code",
   "execution_count": 24,
   "metadata": {},
   "outputs": [
    {
     "data": {
      "text/html": [
       "<div>\n",
       "<style scoped>\n",
       "    .dataframe tbody tr th:only-of-type {\n",
       "        vertical-align: middle;\n",
       "    }\n",
       "\n",
       "    .dataframe tbody tr th {\n",
       "        vertical-align: top;\n",
       "    }\n",
       "\n",
       "    .dataframe thead th {\n",
       "        text-align: right;\n",
       "    }\n",
       "</style>\n",
       "<table border=\"1\" class=\"dataframe\">\n",
       "  <thead>\n",
       "    <tr style=\"text-align: right;\">\n",
       "      <th></th>\n",
       "      <th>Caesarian</th>\n",
       "    </tr>\n",
       "  </thead>\n",
       "  <tbody>\n",
       "    <tr>\n",
       "      <td>0</td>\n",
       "      <td>False</td>\n",
       "    </tr>\n",
       "    <tr>\n",
       "      <td>1</td>\n",
       "      <td>True</td>\n",
       "    </tr>\n",
       "    <tr>\n",
       "      <td>2</td>\n",
       "      <td>False</td>\n",
       "    </tr>\n",
       "    <tr>\n",
       "      <td>3</td>\n",
       "      <td>False</td>\n",
       "    </tr>\n",
       "    <tr>\n",
       "      <td>4</td>\n",
       "      <td>True</td>\n",
       "    </tr>\n",
       "  </tbody>\n",
       "</table>\n",
       "</div>"
      ],
      "text/plain": [
       "   Caesarian\n",
       "0      False\n",
       "1       True\n",
       "2      False\n",
       "3      False\n",
       "4       True"
      ]
     },
     "execution_count": 24,
     "metadata": {},
     "output_type": "execute_result"
    }
   ],
   "source": [
    "target_data_frame.head()"
   ]
  },
  {
   "cell_type": "code",
   "execution_count": 26,
   "metadata": {},
   "outputs": [
    {
     "data": {
      "text/plain": [
       "False"
      ]
     },
     "execution_count": 26,
     "metadata": {},
     "output_type": "execute_result"
    }
   ],
   "source": [
    "# check if predicted and target are both the same\n",
    "predicted_labels.equals(target_data_frame)"
   ]
  },
  {
   "cell_type": "code",
   "execution_count": null,
   "metadata": {},
   "outputs": [],
   "source": []
  }
 ],
 "metadata": {
  "kernelspec": {
   "display_name": "Python 3",
   "language": "python",
   "name": "python3"
  },
  "language_info": {
   "codemirror_mode": {
    "name": "ipython",
    "version": 3
   },
   "file_extension": ".py",
   "mimetype": "text/x-python",
   "name": "python",
   "nbconvert_exporter": "python",
   "pygments_lexer": "ipython3",
   "version": "3.7.4"
  }
 },
 "nbformat": 4,
 "nbformat_minor": 2
}
